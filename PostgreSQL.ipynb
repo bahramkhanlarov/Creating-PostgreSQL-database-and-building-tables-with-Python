{
 "cells": [
  {
   "cell_type": "markdown",
   "id": "610ea691-a632-4afe-9700-539ba61dbe6e",
   "metadata": {},
   "source": [
    "# Setting Up PostgreSQL and building tables with Python"
   ]
  },
  {
   "cell_type": "markdown",
   "id": "76fe657d-6a70-41d4-8033-a3eed9bc2406",
   "metadata": {},
   "source": [
    "### Make sure you download Python and PostgreSQL : https://www.postgresql.org/download/"
   ]
  },
  {
   "cell_type": "code",
   "execution_count": 32,
   "id": "256f3c4d-f64b-466c-9873-dd6425f26b04",
   "metadata": {},
   "outputs": [
    {
     "name": "stdout",
     "output_type": "stream",
     "text": [
      "Requirement already satisfied: psycopg2 in /opt/anaconda3/lib/python3.12/site-packages (2.9.10)\n"
     ]
    }
   ],
   "source": [
    "!pip install psycopg2"
   ]
  },
  {
   "cell_type": "code",
   "execution_count": 33,
   "id": "207e2d28-0865-42cd-8834-2d147be3ceb1",
   "metadata": {},
   "outputs": [],
   "source": [
    "import psycopg2\n",
    "\n",
    "\n",
    "try:\n",
    "    # Default connection parameters\n",
    "    conn = psycopg2.connect(\n",
    "        host=\"localhost\",  \n",
    "        database=\"bkhan\",  \n",
    "        user=\"bkhan\",  \n",
    "        password=\"root\",  \n",
    "        port=5432)\n",
    "        \n",
    "except psycopg2.Error as e:\n",
    "    print(\"Error: Could not make connection to the Postgres database\")\n",
    "    print(e)"
   ]
  },
  {
   "cell_type": "code",
   "execution_count": 34,
   "id": "e2b8149e-0f8f-42dd-a0c1-1bb86775c6f6",
   "metadata": {},
   "outputs": [],
   "source": [
    "#Use the connection to get a cursor that can be used to execute queries.\n",
    "try:\n",
    " cur = conn.cursor()\n",
    "except psycopg2.Error as e:\n",
    "    print(\"Error: Could not get curser to the Database\")\n",
    "    print(e)\n"
   ]
  },
  {
   "cell_type": "code",
   "execution_count": 35,
   "id": "4b2e2541-d502-4606-976a-088db5007434",
   "metadata": {},
   "outputs": [],
   "source": [
    "#Set automatic commit to be true so that each action is committed without having to call conn.commit() after each command\n",
    "\n",
    "conn.set_session(autocommit=True)"
   ]
  },
  {
   "cell_type": "code",
   "execution_count": 36,
   "id": "00153299-1561-48bd-89fb-a8508de6d12b",
   "metadata": {},
   "outputs": [
    {
     "name": "stdout",
     "output_type": "stream",
     "text": [
      "database \"myfirstdb\" already exists\n",
      "\n"
     ]
    }
   ],
   "source": [
    "try:\n",
    "  cur.execute(\"create database myfirstdb\")\n",
    "except psycopg2.Error as e:\n",
    "  print(e)"
   ]
  },
  {
   "cell_type": "code",
   "execution_count": 37,
   "id": "96bad2d6-a1f6-495b-b068-736471e9155d",
   "metadata": {},
   "outputs": [],
   "source": [
    "try:\n",
    " conn.close()\n",
    "except psycopg2.Error as e:\n",
    " print(e)\n",
    "    \n",
    "try:\n",
    "   conn = psycopg2.connect(\n",
    "        host=\"localhost\",  \n",
    "        database=\"myfirstdb\",  \n",
    "        user=\"bkhan\",  \n",
    "        password=\"root\",  \n",
    "        port=5432)\n",
    "    \n",
    "except psycopg2.Error as e:\n",
    "  print(\"Error: Could not make connection to the Postgres database\")\n",
    "  print (e)\n",
    "\n",
    "\n",
    "try:\n",
    "  cur = conn.cursor()\n",
    "except psycopg2. Error as e:\n",
    "  print(\"Error: Could not get curser to the Database\")\n",
    "  print(e)\n",
    "    \n",
    "conn.set_session(autocommit=True)"
   ]
  },
  {
   "cell_type": "code",
   "execution_count": 38,
   "id": "a436e7cf-b42d-485c-876c-32d1566c3f4c",
   "metadata": {},
   "outputs": [],
   "source": [
    "# Create Table for students which includes below columns:\n",
    "\n",
    "\"\"\" \n",
    "student_id\n",
    "name\n",
    "age\n",
    "gender\n",
    "subject\n",
    "marks\"\"\"\n",
    "\n",
    "try:\n",
    "    cur.execute(\"CREATE TABLE IF NOT EXISTS students (student_id int, name varchar, \\\n",
    "              age int, gender varchar, subject varchar, marks int);\")\n",
    "except psycopg2.Error as e:\n",
    "    print(\"Error: Issue creating table\")\n",
    "    print (e)\n"
   ]
  },
  {
   "cell_type": "code",
   "execution_count": 39,
   "id": "ffde21c8-4bae-4d33-afe8-7582d711efd1",
   "metadata": {},
   "outputs": [],
   "source": [
    "try:\n",
    "    cur.execute(\"INSERT INTO students (student_id, name, age, gender, subject, marks) \\\n",
    "                VALUES (%s, %s, %s, %s, %s, %s)\", \\\n",
    "                (1, \"Raj\", 23, \"Male\", \"Python\", 85))\n",
    "except psycopg2.Error as e:\n",
    "    print(\"Error: Inserting Rows\")\n",
    "    print(e)\n",
    "\n",
    "try:\n",
    "    cur.execute(\"INSERT INTO students (student_id, name, age, gender, subject, marks) \\\n",
    "                VALUES (%s, %s, %s, %s, %s, %s)\", \\\n",
    "                (2, \"Priya\", 22, \"Female\", \"Python\", 86))\n",
    "except psycopg2.Error as e:\n",
    "    print(\"Error: Inserting Rows\")\n",
    "    print(e)"
   ]
  },
  {
   "cell_type": "code",
   "execution_count": 40,
   "id": "b6fb298d-f347-4592-8f75-cfda9af70397",
   "metadata": {},
   "outputs": [
    {
     "name": "stdout",
     "output_type": "stream",
     "text": [
      "(1, 'Raj', 23, 'Male', 'Python', 85)\n",
      "(2, 'Priya', 22, 'Female', 'Python', 86)\n"
     ]
    }
   ],
   "source": [
    "try:\n",
    "    cur.execute(\"SELECT * FROM students;\")\n",
    "except psycopg2.Error as e:\n",
    "    print(\"Error: select *\")\n",
    "    print(e)\n",
    "\n",
    "row = cur.fetchone()\n",
    "while row:\n",
    "   print(row)\n",
    "   row = cur.fetchone()"
   ]
  },
  {
   "cell_type": "code",
   "execution_count": 41,
   "id": "7107d05d-54e6-4949-afbd-731d12fea594",
   "metadata": {},
   "outputs": [],
   "source": [
    "cur.close()\n",
    "conn.close()"
   ]
  },
  {
   "cell_type": "code",
   "execution_count": null,
   "id": "cc490126-da01-4e3d-af21-9ba5267ac543",
   "metadata": {},
   "outputs": [],
   "source": []
  }
 ],
 "metadata": {
  "kernelspec": {
   "display_name": "Python 3 (ipykernel)",
   "language": "python",
   "name": "python3"
  },
  "language_info": {
   "codemirror_mode": {
    "name": "ipython",
    "version": 3
   },
   "file_extension": ".py",
   "mimetype": "text/x-python",
   "name": "python",
   "nbconvert_exporter": "python",
   "pygments_lexer": "ipython3",
   "version": "3.12.7"
  }
 },
 "nbformat": 4,
 "nbformat_minor": 5
}
